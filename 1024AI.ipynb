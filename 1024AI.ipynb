{
 "cells": [
  {
   "cell_type": "code",
   "execution_count": 1,
   "metadata": {
    "collapsed": false
   },
   "outputs": [],
   "source": [
    "import ImageGrab\n",
    "import time\n",
    "import timeit\n",
    "import math\n",
    "import os\n",
    "from matplotlib.pyplot import imshow\n",
    "import numpy as np\n",
    "%matplotlib inline"
   ]
  },
  {
   "cell_type": "code",
   "execution_count": 2,
   "metadata": {
    "collapsed": true
   },
   "outputs": [],
   "source": [
    "def screenGrab(box):\n",
    "    return ImageGrab.grab(box)"
   ]
  },
  {
   "cell_type": "code",
   "execution_count": 3,
   "metadata": {
    "collapsed": true
   },
   "outputs": [],
   "source": [
    "def getOrigin(im):\n",
    "    for x in xrange(len(im)):\n",
    "        if not np.all([np.array_equal(i, [0,0,0,255]) for i in im_t[x]]):\n",
    "            origin_y = x\n",
    "            break\n",
    "    for x in xrange(len(im_t[0])):\n",
    "        if not np.all([np.array_equal(i, [0,0,0,255]) for i in im_t[:,x]]):\n",
    "            origin_x = x\n",
    "            break\n",
    "    return origin_x, origin_y"
   ]
  },
  {
   "cell_type": "code",
   "execution_count": 4,
   "metadata": {
    "collapsed": true
   },
   "outputs": [],
   "source": [
    "def getBox(x,y):\n",
    "    x,y = y,x\n",
    "    tl_x = origin_x + x*(WIDTH+INTERVAL)\n",
    "    tl_y = origin_y + y*(WIDTH+INTERVAL)\n",
    "    br_x = tl_x + WIDTH\n",
    "    br_y = tl_y + WIDTH\n",
    "    return tl_x, tl_y, br_x, br_y"
   ]
  },
  {
   "cell_type": "code",
   "execution_count": 5,
   "metadata": {
    "collapsed": false
   },
   "outputs": [],
   "source": [
    "# save images of number 1,2,4\n",
    "def dataPreparation():\n",
    "    tl_x, tl_y, br_x, br_y = getBox(0,3)\n",
    "    sub_mat = im_t[tl_y:br_y,tl_x:br_x]\n",
    "    np.save('data/1',sub_mat)\n",
    "    tl_x, tl_y, br_x, br_y = getBox(1,3)\n",
    "    sub_mat = im_t[tl_y:br_y,tl_x:br_x]\n",
    "    np.save('data/2',sub_mat)\n",
    "    tl_x, tl_y, br_x, br_y = getBox(2,3)\n",
    "    sub_mat = im_t[tl_y:br_y,tl_x:br_x]\n",
    "    np.save('data/4',sub_mat)"
   ]
  },
  {
   "cell_type": "code",
   "execution_count": 13,
   "metadata": {
    "collapsed": false,
    "scrolled": true
   },
   "outputs": [
    {
     "name": "stdout",
     "output_type": "stream",
     "text": [
      "origin = 27 23\n"
     ]
    },
    {
     "data": {
      "image/png": "[encoded data removed]",
      "text/plain": [
       "<matplotlib.figure.Figure at 0x10f380d50>"
      ]
     },
     "metadata": {},
     "output_type": "display_data"
    }
   ],
   "source": [
    "# initial graphic settings\n",
    "BOX = (55,545,1055,1545)\n",
    "WIDTH = 214\n",
    "INTERVAL = 28\n",
    "# position checking\n",
    "im_t = np.asarray(screenGrab(BOX))\n",
    "imshow(im_t)\n",
    "# get origin_x, origin_y\n",
    "origin_x, origin_y = getOrigin(im_t)\n",
    "print 'origin =', origin_x, origin_y"
   ]
  },
  {
   "cell_type": "code",
   "execution_count": 12,
   "metadata": {
    "collapsed": false
   },
   "outputs": [],
   "source": [
    "# load saved images of number 1,2,4\n",
    "n1 = np.load('data/1.npy')\n",
    "n2 = np.load('data/2.npy')\n",
    "n4 = np.load('data/4.npy')\n",
    "# convert to list\n",
    "n1_lst = []\n",
    "for x in xrange(100,150):\n",
    "    for y in xrange(100,150):\n",
    "        n1_lst.append(sum(n1[x][y]))\n",
    "n2_lst = []\n",
    "for x in xrange(100,150):\n",
    "    for y in xrange(100,150):\n",
    "        n2_lst.append(sum(n2[x][y]))\n",
    "n4_lst = []\n",
    "for x in xrange(100,150):\n",
    "    for y in xrange(100,150):\n",
    "        n4_lst.append(sum(n4[x][y]))\n",
    "        \n",
    "def getNumber(im,x,y):\n",
    "    tl_x, tl_y, br_x, br_y = getBox(x,y)\n",
    "    sub_mat = im[tl_y:br_y,tl_x:br_x]\n",
    "    lst = []\n",
    "    for x in xrange(100,150):\n",
    "        for y in xrange(100,150):\n",
    "            lst.append(sum(sub_mat[x][y]))\n",
    "    if np.corrcoef(lst,n1_lst)[1,0] > 0.9:\n",
    "        return 1\n",
    "    if np.corrcoef(lst,n2_lst)[1,0] > 0.9:\n",
    "        return 2\n",
    "    if np.corrcoef(lst,n4_lst)[1,0] > 0.9:\n",
    "        return 4\n",
    "    return 0"
   ]
  },
  {
   "cell_type": "code",
   "execution_count": 9,
   "metadata": {
    "collapsed": false
   },
   "outputs": [
    {
     "data": {
      "text/plain": [
       "<matplotlib.image.AxesImage at 0x10f5e5590>"
      ]
     },
     "execution_count": 9,
     "metadata": {},
     "output_type": "execute_result"
    },
    {
     "data": {
      "image/png": "[encoded data removed]",
      "text/plain": [
       "<matplotlib.figure.Figure at 0x10f5b5790>"
      ]
     },
     "metadata": {},
     "output_type": "display_data"
    }
   ],
   "source": [
    "imshow(n1)"
   ]
  },
  {
   "cell_type": "code",
   "execution_count": 15,
   "metadata": {
    "collapsed": false
   },
   "outputs": [
    {
     "data": {
      "text/plain": [
       "1"
      ]
     },
     "execution_count": 15,
     "metadata": {},
     "output_type": "execute_result"
    }
   ],
   "source": [
    "getNumber(im_t,1,3)"
   ]
  },
  {
   "cell_type": "code",
   "execution_count": 9,
   "metadata": {
    "collapsed": false
   },
   "outputs": [],
   "source": [
    "def left(lst):\n",
    "    temp = filter(lambda x: x!=0,lst)\n",
    "    for i in range(4):\n",
    "        if i < len(temp):\n",
    "            lst[i]=temp[i]\n",
    "        else:\n",
    "            lst[i]=0\n",
    "def moveLeft(board):\n",
    "    for x in board:\n",
    "        if x[0]==x[1] and x[2]==x[3]:\n",
    "            x[0]=x[0]*2\n",
    "            x[1]=x[2]*2\n",
    "            x[2]=0\n",
    "            x[3]=0\n",
    "            continue\n",
    "        left(x)\n",
    "        for i in range(3):\n",
    "            if x[i]==x[i+1]:\n",
    "                x[i]*=2\n",
    "                x[i+1]=0\n",
    "                left(x)\n",
    "                break    \n",
    "def moveRight(board):\n",
    "    board = np.fliplr(board)\n",
    "    moveLeft(board)\n",
    "    board = np.fliplr(board)\n",
    "def moveUp(board):\n",
    "    board = np.rot90 (board)\n",
    "    moveLeft(board)\n",
    "    board = np.rot90 (board,3)\n",
    "def moveDown(board):\n",
    "    board = np.rot90 (board,3)\n",
    "    moveLeft(board)\n",
    "    board = np.rot90 (board)"
   ]
  },
  {
   "cell_type": "code",
   "execution_count": 13,
   "metadata": {
    "collapsed": true
   },
   "outputs": [],
   "source": [
    "def addNew(board):\n",
    "    while True:\n",
    "        x = np.random.randint(4)\n",
    "        y = np.random.randint(4)\n",
    "        if board[x][y] == 0:\n",
    "            board[x][y] = np.random.randint(2)+1\n",
    "            return"
   ]
  },
  {
   "cell_type": "code",
   "execution_count": 14,
   "metadata": {
    "collapsed": true
   },
   "outputs": [],
   "source": [
    "def endCheck(board):\n",
    "    if not np.all(board.flatten()!=0):\n",
    "        return False\n",
    "    for x in range(4):\n",
    "        for y in range(4):\n",
    "            if y+1 < 4 and board[x][y]==board[x][y+1]:\n",
    "                return False\n",
    "            if x+1 < 4 and board[x][y]==board[x+1][y]:\n",
    "                return False\n",
    "    return True"
   ]
  },
  {
   "cell_type": "code",
   "execution_count": 34,
   "metadata": {
    "collapsed": true
   },
   "outputs": [],
   "source": [
    "def maxValue(board):\n",
    "    return max(board.flatten())\n",
    "\n",
    "# more zeros is better\n",
    "# max value the larger the better\n",
    "# adjunct box have closer value is better\n",
    "def score(lastBoard, board):\n",
    "    if np.array_equal(lastBoard,board):\n",
    "        return -1000\n",
    "    rst = 0\n",
    "    rst += 5 * len(filter(lambda x: x ==0, board.flatten()))\n",
    "    rst += 10 * math.log(maxValue(board),2)\n",
    "    temp = np.log2(board+1)\n",
    "    for x in range(4):\n",
    "        for y in range(4):\n",
    "            if y+1 < 4:\n",
    "                rst -= abs(temp[x][y] - temp[x][y+1])\n",
    "            if x+1 < 4:\n",
    "                rst -= abs(temp[x][y] - temp[x+1][y])\n",
    "            rst += temp[x][y]*temp[x][y]\n",
    "    return rst"
   ]
  },
  {
   "cell_type": "code",
   "execution_count": 20,
   "metadata": {
    "collapsed": true
   },
   "outputs": [],
   "source": [
    "def AI(board,i):\n",
    "    boardLeft = np.copy(board)\n",
    "    moveLeft(boardLeft)\n",
    "    boardRight = np.copy(board)\n",
    "    moveRight(boardRight)\n",
    "    boardUp = np.copy(board)\n",
    "    moveUp(boardUp)\n",
    "    boardDown = np.copy(board)\n",
    "    moveDown(boardDown)\n",
    "    if i == 1:\n",
    "        scores = []\n",
    "        scores.append(score(board,boardLeft))        \n",
    "        scores.append(score(board,boardRight))\n",
    "        scores.append(score(board,boardUp))\n",
    "        scores.append(score(board,boardDown))\n",
    "        return max(zip(range(4),scores), key=lambda x:x[1])[0]\n",
    "    else:\n",
    "        scores = []\n",
    "        if np.array_equal(boardLeft,board):\n",
    "            scores.append(-1000)\n",
    "        else:\n",
    "            #addNew(boardLeft)\n",
    "            scores.append(AI(boardLeft,i-1)) \n",
    "        if np.array_equal(boardRight,board):\n",
    "            scores.append(-1000)\n",
    "        else:\n",
    "            #addNew(boardRight)\n",
    "            scores.append(AI(boardRight,i-1)) \n",
    "        if np.array_equal(boardUp,board):\n",
    "            scores.append(-1000)\n",
    "        else:\n",
    "            #addNew(boardUp)\n",
    "            scores.append(AI(boardUp,i-1)) \n",
    "        if np.array_equal(boardDown,board):\n",
    "            scores.append(-1000)\n",
    "        else:\n",
    "            #addNew(boardDown)\n",
    "            scores.append(AI(boardDown,i-1)) \n",
    "        return max(zip(range(4),scores), key=lambda x:x[1])[0]"
   ]
  },
  {
   "cell_type": "code",
   "execution_count": 16,
   "metadata": {
    "collapsed": false,
    "scrolled": true
   },
   "outputs": [
    {
     "name": "stdout",
     "output_type": "stream",
     "text": [
      "[[0 0 0 0]\n",
      " [0 0 0 1]\n",
      " [0 0 0 1]\n",
      " [0 0 0 0]]\n"
     ]
    }
   ],
   "source": [
    "# initial board\n",
    "board = np.zeros((4,4), dtype=np.int)\n",
    "for x in range(4):\n",
    "    for y in range(4):\n",
    "        board[x][y] = getNumber(im_t,x,y) or 0\n",
    "print board"
   ]
  },
  {
   "cell_type": "code",
   "execution_count": null,
   "metadata": {
    "collapsed": true
   },
   "outputs": [],
   "source": [
    "# test first within python\n",
    "import timeit\n",
    "# vitual game process\n",
    "board = np.zeros((4,4), dtype=np.int)\n",
    "board[1][0]=1\n",
    "board[3][2]=1\n",
    "counter = 0\n",
    "start_time = timeit.default_timer()\n",
    "while True:\n",
    "    # make move\n",
    "    # act = np.random.randint(4)\n",
    "    act = AI(board,1)\n",
    "    if act==0:\n",
    "        print 'act = Left'\n",
    "        moveLeft(board)\n",
    "    elif act==1:\n",
    "        print 'act = Right'\n",
    "        moveRight(board)\n",
    "    elif act==2:\n",
    "        print 'act = Up'\n",
    "        moveUp(board)\n",
    "    elif act==3:\n",
    "        print 'act = Down'\n",
    "        moveDown(board)\n",
    "    # add new point\n",
    "    addNew(board)\n",
    "    counter+=1\n",
    "    print board\n",
    "    print 'step =', counter, 'run time=', timeit.default_timer() - start_time\n",
    "    start_time = timeit.default_timer()\n",
    "    # check game end\n",
    "    if endCheck(board):\n",
    "        break"
   ]
  }
 ],
 "metadata": {
  "kernelspec": {
   "display_name": "Python 2",
   "language": "python",
   "name": "python2"
  },
  "language_info": {
   "codemirror_mode": {
    "name": "ipython",
    "version": 2
   },
   "file_extension": ".py",
   "mimetype": "text/x-python",
   "name": "python",
   "nbconvert_exporter": "python",
   "pygments_lexer": "ipython2",
   "version": "2.7.10"
  }
 },
 "nbformat": 4,
 "nbformat_minor": 0
}
